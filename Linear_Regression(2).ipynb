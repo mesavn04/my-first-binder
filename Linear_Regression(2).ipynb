{
 "cells": [
  {
   "cell_type": "markdown",
   "metadata": {},
   "source": [
    "https://www.geeksforgeeks.org/python-linear-programming-in-pulp/\n",
    "Minimize :  Z = 3x + 5y\n",
    "Subject to the constraints: \n",
    "2x + 3y >= 12\n",
    "-x + y <= 3\n",
    "x >= 4\n",
    "y <= 3\n",
    "x, y >= 0"
   ]
  },
  {
   "cell_type": "code",
   "execution_count": 1,
   "metadata": {},
   "outputs": [
    {
     "name": "stdout",
     "output_type": "stream",
     "text": [
      "Problem:\n",
      "MINIMIZE\n",
      "3*x + 5*y + 0\n",
      "SUBJECT TO\n",
      "_C1: 2 x + 3 y >= 12\n",
      "\n",
      "_C2: - x + y <= 3\n",
      "\n",
      "_C3: x >= 4\n",
      "\n",
      "_C4: y <= 3\n",
      "\n",
      "VARIABLES\n",
      "x Continuous\n",
      "y Continuous\n",
      "\n",
      "Optimal\n",
      "6.0 0.0 18.0\n"
     ]
    }
   ],
   "source": [
    "# import the library pulp as p \n",
    "import pulp as p \n",
    "\n",
    "# Create a LP Minimization problem \n",
    "Lp_prob = p.LpProblem('Problem', p.LpMinimize) \n",
    "\n",
    "# Create problem Variables \n",
    "x = p.LpVariable(\"x\", lowBound = 0) # Create a variable x >= 0 \n",
    "y = p.LpVariable(\"y\", lowBound = 0) # Create a variable y >= 0 \n",
    "\n",
    "# Objective Function \n",
    "Lp_prob += 3 * x + 5 * y \n",
    "\n",
    "# Constraints: \n",
    "Lp_prob += 2 * x + 3 * y >= 12\n",
    "Lp_prob += -x + y <= 3\n",
    "Lp_prob += x >= 4\n",
    "Lp_prob += y <= 3\n",
    "\n",
    "# Display the problem \n",
    "print(Lp_prob) \n",
    "\n",
    "status = Lp_prob.solve() # Solver \n",
    "print(p.LpStatus[status]) # The solution status \n",
    "\n",
    "# Printing the final solution \n",
    "print(p.value(x), p.value(y), p.value(Lp_prob.objective))"
   ]
  },
  {
   "cell_type": "code",
   "execution_count": null,
   "metadata": {},
   "outputs": [],
   "source": []
  }
 ],
 "metadata": {
  "kernelspec": {
   "display_name": "Python 3",
   "language": "python",
   "name": "python3"
  },
  "language_info": {
   "codemirror_mode": {
    "name": "ipython",
    "version": 3
   },
   "file_extension": ".py",
   "mimetype": "text/x-python",
   "name": "python",
   "nbconvert_exporter": "python",
   "pygments_lexer": "ipython3",
   "version": "3.8.3"
  }
 },
 "nbformat": 4,
 "nbformat_minor": 4
}
