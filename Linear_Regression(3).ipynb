{
 "cells": [
  {
   "cell_type": "markdown",
   "metadata": {},
   "source": [
    "https://stackoverflow.com/questions/45729413/integer-linear-optimization-with-pulp"
   ]
  },
  {
   "cell_type": "code",
   "execution_count": 1,
   "metadata": {},
   "outputs": [
    {
     "name": "stdout",
     "output_type": "stream",
     "text": [
      "Status: Optimal\n",
      "Total Optimum= 42.0\n",
      "Itemsets_x1 = 0.0\n",
      "Itemsets_x2 = 1.0\n",
      "Itemsets_x3 = 1.0\n",
      "Products_beer = 1.0\n",
      "Products_cheese = 1.0\n",
      "Products_cola = 0.0\n",
      "Products_peanuts = 1.0\n"
     ]
    },
    {
     "name": "stderr",
     "output_type": "stream",
     "text": [
      "d:\\software\\wpy64-3830\\python-3.8.3.amd64\\lib\\site-packages\\pulp\\pulp.py:1195: UserWarning: Spaces are not permitted in the name. Converted to '_'\n",
      "  warnings.warn(\"Spaces are not permitted in the name. Converted to '_'\")\n"
     ]
    }
   ],
   "source": [
    "from pulp import *\n",
    "\n",
    "# defining list of products\n",
    "products = ['cola','peanuts', 'cheese', 'beer']\n",
    "itemsets = ['x1','x2', 'x3']\n",
    "\n",
    "#disctionary of the costs of each of the products is created\n",
    "costs = {'cola' : 5, 'peanuts' : 3, 'cheese' : 1, 'beer' : 4 }\n",
    "\n",
    "# dictionary of frequent itemsets\n",
    "# ~~> This is hard to maintain - I would select a different data structure\n",
    "# it gets really complicated below as you will see!\n",
    "itemset_dict = { \"x1\" : ((\"cola\", \"peanuts\"),10),\n",
    "           \"x2\" : ((\"peanuts\",\"cheese\"),20),\n",
    "           \"x3\" : ((\"peanuts\",\"beer\"),30)\n",
    "           }\n",
    "\n",
    "# Good practice to first define your problem\n",
    "my_lp_program = LpProblem('My LP Problem', LpMaximize)  \n",
    "\n",
    "# ~~>You do not need bounds for binary variables, they are automatically 0/1\n",
    "products_var=LpVariable.dicts(\"Products\", products, cat='Binary')\n",
    "itemsets_var=LpVariable.dicts(\"Itemsets\", itemsets, cat='Binary')\n",
    "\n",
    "# ~~> Not necessary - commended out\n",
    "# defining itemsets variables\n",
    "# for x in itemsets:\n",
    "#     x = LpVariable(x, lowBound=0, upBound=1, cat='Binary')\n",
    "\n",
    "'''\n",
    "x1 = LpVariable('x1', lowBound=0, upBound=1, cat='Binary')\n",
    "x2 = LpVariable('x2', lowBound=0, upBound=1, cat='Binary')\n",
    "x3 = LpVariable('x3', lowBound=0, upBound=1, cat='Binary')\n",
    "'''\n",
    "\n",
    "# ~~> Not necessary - commended out\n",
    "# defining products variables\n",
    "# for p in products:\n",
    "#     p = LpVariable(p, lowBound=0, upBound=1, cat='Binary')\n",
    "\n",
    "'''\n",
    "cola = LpVariable('cola', lowBound=0, upBound=1, cat='Binary')\n",
    "peanuts = LpVariable('peanuts', lowBound=0, upBound=1, cat='Binary')\n",
    "cheese = LpVariable('cheese', lowBound=0, upBound=1, cat='Binary')\n",
    "beer = LpVariable('beer', lowBound=0, upBound=1, cat='Binary')\n",
    "'''\n",
    "\n",
    "# ~~> Not necessary - commended out, see below\n",
    "#my_lp_program += 10*x1+20*x2+30*x3-5*p1-3*p2-1*p3-4*p4 , \"Maximization\"\n",
    "# my_lp_program += lpSum([itemset_dict[i][1] * itemsets_var[i] for i in itemsets]) - lpSum([costs[i] * products_var[i] for i in products]) , \"Maximization\"\n",
    "\n",
    "# ~~> Use an affine expression to define your objective.\n",
    "# ~~> Even better, define two objects as LpAffineExpression and add them, \n",
    "# ~~> it keeps the code cleaner\n",
    "my_lp_program += LpAffineExpression([(\n",
    "    itemsets_var[x], itemset_dict[x][1])  for x in itemsets_var]) + \\\n",
    "    LpAffineExpression([(\n",
    "    products_var[x], -costs[x])  for x in products_var])\n",
    "\n",
    "# ~~> Not necessary - commended out\n",
    "#my_lp_program +=cola+peanuts+cheese+beer<=3, \"1Constained\"\n",
    "# my_lp_program +=lpSum([products_var[i] for i in products]) <= 3, \"1Constaint\"\n",
    "# ~~> This is the right way to enter this constraint.\n",
    "# ~~> I do not like the naming though..\n",
    "my_lp_program += lpSum(products_var) <= 3, '1Constraint'\n",
    "\n",
    "'''\n",
    "my_lp_program +=cola>=x1, \"2Constained\"\n",
    "my_lp_program +=peanuts>=x1, \"3Constained\"\n",
    "my_lp_program +=peanuts>=x2, \"4Constained\"\n",
    "my_lp_program +=cheese>=x2, \"5Constained\"\n",
    "my_lp_program +=peanuts>=x3, \"6Constained\"\n",
    "my_lp_program +=beer>=x3, \"7Constained\"\n",
    "'''\n",
    "# ~~> Here are your constraints\n",
    "counter = 1\n",
    "for a in itemset_dict.keys():\n",
    "    item = itemsets_var[a]\n",
    "    for b in itemset_dict[a][0]:\n",
    "        product = products_var[b]\n",
    "        counter +=1\n",
    "        my_lp_program += product  >= item, \"{}Constraint\".format(counter)\n",
    "\n",
    "# ~~> Great that you export the lp! If you look at the file you can\n",
    "# ~~> spot a lot of issues with the model during debugging\n",
    "my_lp_program.writeLP(\"CheckLpProgram.lp\")\n",
    "my_lp_program.solve()\n",
    "\n",
    "print(\"Status:\", LpStatus[my_lp_program.status])\n",
    "\n",
    "print(\"Total Optimum=\", value(my_lp_program.objective))\n",
    "\n",
    "for v in my_lp_program.variables():\n",
    "    print(v.name, \"=\", v.varValue)"
   ]
  },
  {
   "cell_type": "code",
   "execution_count": null,
   "metadata": {},
   "outputs": [],
   "source": []
  }
 ],
 "metadata": {
  "kernelspec": {
   "display_name": "Python 3",
   "language": "python",
   "name": "python3"
  },
  "language_info": {
   "codemirror_mode": {
    "name": "ipython",
    "version": 3
   },
   "file_extension": ".py",
   "mimetype": "text/x-python",
   "name": "python",
   "nbconvert_exporter": "python",
   "pygments_lexer": "ipython3",
   "version": "3.8.3"
  }
 },
 "nbformat": 4,
 "nbformat_minor": 4
}
