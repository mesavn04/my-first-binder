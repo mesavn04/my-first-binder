{
  "nbformat": 4,
  "nbformat_minor": 0,
  "metadata": {
    "colab": {
      "name": "Plotly for Hierarchical Data Visualization: Treemaps and More.ipynb",
      "private_outputs": true,
      "provenance": [],
      "collapsed_sections": [],
      "include_colab_link": true
    },
    "kernelspec": {
      "name": "python3",
      "display_name": "Python 3"
    },
    "language_info": {
      "name": "python"
    }
  },
  "cells": [
    {
      "cell_type": "markdown",
      "metadata": {
        "id": "view-in-github",
        "colab_type": "text"
      },
      "source": [
        "<a href=\"https://colab.research.google.com/github/mesavn04/my-first-binder/blob/master/Plotly_for_Hierarchical_Data_Visualization_Treemaps_and_More.ipynb\" target=\"_parent\"><img src=\"https://colab.research.google.com/assets/colab-badge.svg\" alt=\"Open In Colab\"/></a>"
      ]
    },
    {
      "cell_type": "markdown",
      "source": [
        "# Download and Prepare the Data"
      ],
      "metadata": {
        "id": "Am2xsqjkIkrQ"
      }
    },
    {
      "cell_type": "code",
      "execution_count": null,
      "metadata": {
        "id": "tB5MJg8RH_RM"
      },
      "outputs": [],
      "source": [
        "!pip install selenium\n",
        "!apt-get update # to update ubuntu to correctly run apt install\n",
        "!apt install chromium-chromedriver\n",
        "!cp /usr/lib/chromium-browser/chromedriver /usr/bin"
      ]
    },
    {
      "cell_type": "code",
      "source": [
        "import sys\n",
        "sys.path.insert(0,'/usr/lib/chromium-browser/chromedriver')\n",
        "from selenium import webdriver\n",
        "from time import sleep\n",
        "from bs4 import BeautifulSoup\n",
        "import pandas as pd\n",
        "chrome_options = webdriver.ChromeOptions()\n",
        "chrome_options.add_argument('--headless')\n",
        "chrome_options.add_argument('--no-sandbox')\n",
        "chrome_options.add_argument('--disable-dev-shm-usage')\n",
        "wd = webdriver.Chrome('chromedriver',chrome_options=chrome_options)\n",
        "\n",
        "site = 'https://www.bls.gov/news.release/jolts.t04.htm'\n",
        "\n",
        "wd.get(site)\n",
        "sleep(5)\n",
        "html = wd.page_source\n",
        "\n",
        "df = pd.read_html(html)\n",
        "df[0].head(5)"
      ],
      "metadata": {
        "id": "rH60AujgIqVy"
      },
      "execution_count": null,
      "outputs": []
    },
    {
      "cell_type": "code",
      "source": [
        "df[0].to_excel('quits_levels_and_rates.xlsx',sheet_name='By_Industry',index=True)"
      ],
      "metadata": {
        "id": "JQOX06d9QLKD"
      },
      "execution_count": null,
      "outputs": []
    },
    {
      "cell_type": "code",
      "source": [
        "#pip install openpyxl\n",
        "import plotly.graph_objects as go\n",
        "import pandas as pd\n",
        "\n",
        "df0 = pd.read_excel('quits_levels_and_rates.xlsx',sheet_name=\"By_Industry\",skiprows=1) \n",
        "df0=df0[['Industry and region','Oct.2021(p)','Oct.2021(p).1']]\n",
        "new_cols = ['Industry','Oct_2021_Quits','Oct_2021_Quit_Rates']\n",
        "df0.columns = new_cols\n",
        "# df=df[['Industry','Oct_2021_Quits','Oct_2021_Quit_Rates']]\n",
        "df0.head(5)"
      ],
      "metadata": {
        "id": "PmClGV-AJqSs"
      },
      "execution_count": null,
      "outputs": []
    },
    {
      "cell_type": "code",
      "source": [
        "df = df0.dropna(how='any') \n",
        "df.head(5)"
      ],
      "metadata": {
        "id": "ymafgP7MTgjJ"
      },
      "execution_count": null,
      "outputs": []
    },
    {
      "cell_type": "markdown",
      "source": [
        "# Create a Treemap with go.Treemap"
      ],
      "metadata": {
        "id": "HMbNPMosK3KY"
      }
    },
    {
      "cell_type": "code",
      "source": [
        "#Create a function to assign a 'parent' to each industry/label to define the hierarchical structure\n",
        "def f(row):\n",
        "    if row['Industry'] == 'Total':\n",
        "        val = \"\"\n",
        "    elif row['Industry'] in (['Total private', 'Government']):\n",
        "        val = 'Total' \n",
        "    elif row['Industry'] in (['Mining and logging', 'Construction','Manufacturing','Trade, transportation, and utilities',\n",
        "                             'Information','Financial activities','Professional and business services',\n",
        "                             'Education and health services','Leisure and hospitality','Other services']):\n",
        "        val = 'Total private' \n",
        "    elif row['Industry'] in (['Federal', 'State and local']):\n",
        "        val = 'Government' \n",
        "    elif row['Industry'] in (['Durable goods', 'Nondurable goods']):\n",
        "        val = 'Manufacturing' \n",
        "    elif row['Industry'] in (['Wholesale trade', 'Retail trade','Transportation, warehousing, and utilities']):\n",
        "        val = 'Trade, transportation, and utilities' \n",
        "    elif row['Industry'] in (['Finance and insurance', 'Real estate and rental and leasing']):\n",
        "        val = 'Financial activities' \n",
        "    elif row['Industry'] in (['Educational services', 'Health care and social assistance']):\n",
        "        val = 'Education and health services' \n",
        "    elif row['Industry'] in (['Arts, entertainment, and recreation', 'Accommodation and food services']):\n",
        "        val = 'Leisure and hospitality' \n",
        "    elif row['Industry'] in (['State and local education', 'State and local, excluding education']):\n",
        "        val = 'State and local' \n",
        "    else:\n",
        "        val = 'NA'\n",
        "    return val\n",
        "\n",
        "df['parent']= df.apply(f, axis=1) #add a new column 'parent' to the data frame\n",
        "df.rename({'Industry': 'id','Oct_2021_Quits':'value','Oct_2021_Quit_Rates':'color'},axis=1, inplace=True)\n",
        "df=df[['id','parent','value','color']]"
      ],
      "metadata": {
        "id": "PNSpBbI4KrOz"
      },
      "execution_count": null,
      "outputs": []
    },
    {
      "cell_type": "code",
      "source": [
        "fig = go.Figure(go.Treemap(\n",
        "    labels=df['id'], #Show the name of each rectangle\n",
        "    parents=df['parent'], #Define the hierarchy\n",
        "    values=df['value'], #Define the area/size of each rectangle\n",
        "    branchvalues='total', #When set to \"total\", items in values are taken to be value of all its descendants\n",
        "    textinfo = \"label\", #Define what to show as the label for each rectangle\n",
        "    pathbar_textfont_size=15,\n",
        "    marker=dict(\n",
        "        colors=df['color'], #Use 'color' column for continuous color scale\n",
        "        colorscale='oranges',\n",
        "    ),\n",
        "    hovertemplate='<b>%{label} </b> <br> <br> Quit Rate: %{color:.1f}%<br>', #Define what and how the hover text is shown\n",
        "    name=''\n",
        "    ))\n",
        "\n",
        "fig.show()"
      ],
      "metadata": {
        "id": "u_sQxW8IKxxR"
      },
      "execution_count": null,
      "outputs": []
    },
    {
      "cell_type": "markdown",
      "source": [
        "# Fine-Tune the Treemap"
      ],
      "metadata": {
        "id": "q9BCIr41K-W3"
      }
    },
    {
      "cell_type": "code",
      "source": [
        "#Remove 'value' attribute so that the area of a category is divided equally amongst the other subcategories within its parent category\n",
        "fig = go.Figure(go.Treemap(\n",
        "    labels=df['id'],\n",
        "    parents=df['parent'],\n",
        "    #values=df['value'], #Remove the values attribute to avoid squeezing some industry sectors to extremely small rectangles\n",
        "    branchvalues='total',\n",
        "    textinfo = \"label\",\n",
        "    pathbar_textfont_size=15,\n",
        "    marker=dict(\n",
        "        colors=df['color'],\n",
        "        colorscale='oranges',\n",
        "    ),\n",
        "    hovertemplate='<b>%{label} </b> <br> <br> Quit Rate: %{color:.1f}%<br>',\n",
        "    name=''\n",
        "    ))\n",
        "#Force text labels to have the same font size using uniform text parameter\n",
        "fig.update_layout(\n",
        "    uniformtext=dict(minsize=10, mode='show'), #Controlling text fontsize with uniformtext\n",
        "    margin = dict(t=50, l=25, r=25, b=25)\n",
        ")\n",
        "\n",
        "fig.show()"
      ],
      "metadata": {
        "id": "t77zbd9jLACq"
      },
      "execution_count": null,
      "outputs": []
    },
    {
      "cell_type": "code",
      "source": [
        "def f(row):\n",
        "    if row['id'] == 'Transportation, warehousing, and utilities':\n",
        "        val = 'Transport-<br>ation/<br>utilities'\n",
        "    elif row['id'] == 'Finance and insurance':\n",
        "        val = 'Finance/<br>Insurance'    \n",
        "    elif row['id'] == 'Real estate and rental and leasing':\n",
        "        val = 'Real estate/<br>rental/<br>leasing' \n",
        "    elif row['id'] == 'Arts, entertainment, and recreation':\n",
        "        val = 'Arts/<br>entertainment/<br>recreation'  \n",
        "    elif row['id'] == 'Accommodation and food services':\n",
        "        val = 'Accommo-<br>dation/<br>food<br>services' \n",
        "    elif row['id'] == 'Mining and logging':\n",
        "        val = 'Mining/logging' \n",
        "    elif row['id'] == 'Professional and business services':\n",
        "        val = 'Professional/<br>business services' \n",
        "    elif row['id'] == 'State and local education':\n",
        "        val = 'State/local<br>education'\n",
        "    elif row['id'] == 'State and local, excluding education':\n",
        "        val = 'State and<br>local<br>(excluding<br>education)'\n",
        "    elif row['id'] == 'Educational services':\n",
        "        val = 'Educational<br>services'\n",
        "    elif row['id'] == 'Health care and social assistance':\n",
        "        val = 'Health Care/<br>social<br>assistance'\n",
        "    elif row['id'] == 'Durable goods':\n",
        "        val = 'Durable<br>goods'\n",
        "    elif row['id'] == 'Nondurable goods':\n",
        "        val = 'Nondurable<br>goods'\n",
        "    else:\n",
        "        val = row['id']\n",
        "    return val\n",
        "\n",
        "df['id2']= df.apply(f, axis=1)"
      ],
      "metadata": {
        "id": "pI8BHdMiLHCx"
      },
      "execution_count": null,
      "outputs": []
    },
    {
      "cell_type": "code",
      "source": [
        "#Final code to fine tune the treemap\n",
        "fig = go.Figure(go.Treemap(\n",
        "    labels=df['id2'], #Use 'id2' which is the wrapped text format\n",
        "    parents=df['parent'],\n",
        "    #values=df['value'],\n",
        "    branchvalues='total',\n",
        "    textinfo = \"label\",\n",
        "    pathbar_textfont_size=15,\n",
        "    marker=dict(\n",
        "        colors=df['color'],\n",
        "        colorscale='oranges',\n",
        "    ),\n",
        "    hovertemplate='<b>%{label} </b> <br> <br> Quit Rate: %{color:.1f}%<br>',\n",
        "    name=''\n",
        "    ))\n",
        "\n",
        "fig.update_layout(\n",
        "    uniformtext=dict(minsize=10, mode='show'),\n",
        "    margin = dict(t=50, l=25, r=25, b=25),\n",
        "    title_text = 'Oct 2021 Quit Rates by Industry',\n",
        "    title_font_family=\"Arial\",\n",
        "    title_font_size = 22,\n",
        "    title_font_color=\"black\",\n",
        "    title_x=0.5,\n",
        ")\n",
        "\n",
        "fig.show()"
      ],
      "metadata": {
        "id": "akS_z0AYLLz0"
      },
      "execution_count": null,
      "outputs": []
    },
    {
      "cell_type": "markdown",
      "source": [
        "# Bonus: Sunburst Chart and Icicle Chart"
      ],
      "metadata": {
        "id": "5zdhponyLR4V"
      }
    },
    {
      "cell_type": "code",
      "source": [
        "#Plot Sunburst Chart\n",
        "fig =go.Figure(go.Sunburst(\n",
        "    labels=df['id2'],\n",
        "    parents=df['parent'],\n",
        "    #values=df['value'],\n",
        "    textinfo = \"label\",\n",
        "    marker=dict(\n",
        "        colors=df['color'],\n",
        "        colorscale='oranges',\n",
        "    ),\n",
        "    hovertemplate='<b>%{label} </b> <br> <br> Quit Rate: %{color:.1f}%<br>',\n",
        "    name=''\n",
        "))\n",
        "\n",
        "fig.update_layout(\n",
        "    uniformtext=dict(minsize=8, mode='show'),\n",
        "    margin = dict(t=50, l=25, r=25, b=25),\n",
        "    title_text = 'Oct 2021 Quit Rates by Industry',\n",
        "    title_font_family=\"Arial\",\n",
        "    title_font_size = 22,\n",
        "    title_font_color=\"black\",\n",
        "    title_x=0.5,\n",
        ")\n",
        "\n",
        "fig.show()"
      ],
      "metadata": {
        "id": "1pYwsNN5LTmC"
      },
      "execution_count": null,
      "outputs": []
    },
    {
      "cell_type": "code",
      "source": [
        "#Plot the Icicle Chart\n",
        "fig =go.Figure(go.Icicle(\n",
        "    labels=df['id'], #I changed back to 'id' because for this chart format it's better to leave the text labels as-is\n",
        "    parents=df['parent'],\n",
        "    #values=df['value'],\n",
        "    textinfo = \"label\",\n",
        "    marker=dict(\n",
        "        colors=df['color'],\n",
        "        colorscale='oranges',\n",
        "    ),\n",
        "    hovertemplate='<b>%{label} </b> <br> <br> Quit Rate: %{color:.1f}%<br>',\n",
        "    name='',\n",
        "    tiling = dict(\n",
        "    orientation='h', #set the direction to be horizontal\n",
        "    flip='y') #set the direction to be from left to right\n",
        "))\n",
        "\n",
        "fig.update_layout(\n",
        "    uniformtext=dict(minsize=8, mode='show'),\n",
        "    margin = dict(t=50, l=25, r=25, b=25),\n",
        "    title_text = 'Oct 2021 Quit Rates by Industry',\n",
        "    title_font_family=\"Arial\",\n",
        "    title_font_size = 22,\n",
        "    title_font_color=\"black\",\n",
        "    title_x=0.5,\n",
        ")\n",
        "\n",
        "fig.show()"
      ],
      "metadata": {
        "id": "ZbA-p6X3Lazw"
      },
      "execution_count": null,
      "outputs": []
    }
  ]
}