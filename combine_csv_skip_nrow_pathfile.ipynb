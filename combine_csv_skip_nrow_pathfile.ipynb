{
 "cells": [
  {
   "cell_type": "code",
   "execution_count": 2,
   "metadata": {},
   "outputs": [],
   "source": [
    "import pandas as pd\n",
    "import glob\n",
    "import os"
   ]
  },
  {
   "cell_type": "code",
   "execution_count": 5,
   "metadata": {},
   "outputs": [
    {
     "name": "stdout",
     "output_type": "stream",
     "text": [
      "C:\\Users\\nhungtth\\Downloads\\test_N2\\B.04. Bảng tổng hợp phát sinh nợ phải trả (1).csv has been imported.\n",
      "C:\\Users\\nhungtth\\Downloads\\test_N2\\B.04. Bảng tổng hợp phát sinh nợ phải trả (2).csv has been imported.\n",
      "C:\\Users\\nhungtth\\Downloads\\test_N2\\B.04. Bảng tổng hợp phát sinh nợ phải trả (3).csv has been imported.\n",
      "C:\\Users\\nhungtth\\Downloads\\test_N2\\B.04. Bảng tổng hợp phát sinh nợ phải trả (4).csv has been imported.\n",
      "C:\\Users\\nhungtth\\Downloads\\test_N2\\B.04. Bảng tổng hợp phát sinh nợ phải trả (5).csv has been imported.\n",
      "C:\\Users\\nhungtth\\Downloads\\test_N2\\B.04. Bảng tổng hợp phát sinh nợ phải trả (6).csv has been imported.\n",
      "C:\\Users\\nhungtth\\Downloads\\test_N2\\B.04. Bảng tổng hợp phát sinh nợ phải trả.csv has been imported.\n",
      "done\n"
     ]
    }
   ],
   "source": [
    "globbed_files = glob.glob(\"C:\\\\Users\\\\nhungtth\\\\Downloads\\\\test_N2\\\\*.csv\") #creates a list of all csv files\n",
    "data = [] # pd.concat takes a list of dataframes as an agrument\n",
    "for csv in globbed_files:\n",
    "    frame = pd.read_csv(csv,sep=',',index_col=None,skiprows=range(0, 3))\n",
    "    data.append(frame)\n",
    "    print(csv + \" has been imported.\")\n",
    "bigframe = pd.concat(data, ignore_index=True) #dont want pandas to try an align row indexes\n",
    "bigframe.to_csv(\"C:\\\\Users\\\\nhungtth\\\\Downloads\\\\test_N2\\\\Pandas_output2.csv\")\n",
    "print(\"done\")"
   ]
  },
  {
   "cell_type": "code",
   "execution_count": null,
   "metadata": {},
   "outputs": [],
   "source": []
  }
 ],
 "metadata": {
  "kernelspec": {
   "display_name": "Python 3",
   "language": "python",
   "name": "python3"
  },
  "language_info": {
   "codemirror_mode": {
    "name": "ipython",
    "version": 3
   },
   "file_extension": ".py",
   "mimetype": "text/x-python",
   "name": "python",
   "nbconvert_exporter": "python",
   "pygments_lexer": "ipython3",
   "version": "3.8.3"
  }
 },
 "nbformat": 4,
 "nbformat_minor": 4
}
