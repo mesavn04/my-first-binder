{
 "cells": [
  {
   "cell_type": "code",
   "execution_count": 2,
   "metadata": {},
   "outputs": [
    {
     "name": "stdout",
     "output_type": "stream",
     "text": [
      "\n"
     ]
    }
   ],
   "source": [
    "import urllib\n",
    "import urllib.request\n",
    "from bs4 import BeautifulSoup\n",
    "\n",
    "def make_soup(url):\n",
    "    thepage = urllib.request.urlopen(url)\n",
    "    soupdata = BeautifulSoup(thepage,\"html.parser\")\n",
    "    return soupdata\n",
    "\n",
    "playerdata = playerdatasaved =\"\"\n",
    "soup = make_soup(\"https://drugbank.vn/danh-sach-thuoc?page=1\")\n",
    "for record in soup.findAll('tr'):\n",
    "    for data in record.findAll('td'):\n",
    "        playerdata=playerdata+\",\"+data.text\n",
    "    playerdatasaved = playerdatasaved+ \"\\n\"+playerdata[1:]\n",
    "print(playerdatasaved)"
   ]
  },
  {
   "cell_type": "code",
   "execution_count": null,
   "metadata": {},
   "outputs": [],
   "source": []
  }
 ],
 "metadata": {
  "kernelspec": {
   "display_name": "Python 3",
   "language": "python",
   "name": "python3"
  },
  "language_info": {
   "codemirror_mode": {
    "name": "ipython",
    "version": 3
   },
   "file_extension": ".py",
   "mimetype": "text/x-python",
   "name": "python",
   "nbconvert_exporter": "python",
   "pygments_lexer": "ipython3",
   "version": "3.8.3"
  }
 },
 "nbformat": 4,
 "nbformat_minor": 4
}
