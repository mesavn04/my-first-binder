{
  "nbformat": 4,
  "nbformat_minor": 0,
  "metadata": {
    "colab": {
      "name": "drugbank_scraping.ipynb",
      "provenance": [],
      "collapsed_sections": [
        "3PVtaR_7t1m6"
      ],
      "authorship_tag": "ABX9TyM0XhOE8cTcXpRUKnA3y4fz",
      "include_colab_link": true
    },
    "kernelspec": {
      "name": "python3",
      "display_name": "Python 3"
    },
    "language_info": {
      "name": "python"
    },
    "accelerator": "GPU"
  },
  "cells": [
    {
      "cell_type": "markdown",
      "metadata": {
        "id": "view-in-github",
        "colab_type": "text"
      },
      "source": [
        "<a href=\"https://colab.research.google.com/github/mesavn04/my-first-binder/blob/master/drugbank_scraping.ipynb\" target=\"_parent\"><img src=\"https://colab.research.google.com/assets/colab-badge.svg\" alt=\"Open In Colab\"/></a>"
      ]
    },
    {
      "cell_type": "markdown",
      "metadata": {
        "id": "e8GirPMJxvM9"
      },
      "source": [
        "# Install packages"
      ]
    },
    {
      "cell_type": "code",
      "metadata": {
        "colab": {
          "base_uri": "https://localhost:8080/"
        },
        "id": "zHpg49jauT8k",
        "outputId": "3e3a51f2-a372-4d5c-eea5-e0ba4fc3d637"
      },
      "source": [
        "!pip install selenium\n",
        "!apt-get update # to update ubuntu to correctly run apt install\n",
        "!apt install chromium-chromedriver\n",
        "!cp /usr/lib/chromium-browser/chromedriver /usr/bin"
      ],
      "execution_count": null,
      "outputs": [
        {
          "output_type": "stream",
          "text": [
            "Collecting selenium\n",
            "  Downloading selenium-3.141.0-py2.py3-none-any.whl (904 kB)\n",
            "\u001b[?25l\r\u001b[K     |▍                               | 10 kB 23.0 MB/s eta 0:00:01\r\u001b[K     |▊                               | 20 kB 25.3 MB/s eta 0:00:01\r\u001b[K     |█                               | 30 kB 30.7 MB/s eta 0:00:01\r\u001b[K     |█▌                              | 40 kB 34.8 MB/s eta 0:00:01\r\u001b[K     |█▉                              | 51 kB 34.9 MB/s eta 0:00:01\r\u001b[K     |██▏                             | 61 kB 35.9 MB/s eta 0:00:01\r\u001b[K     |██▌                             | 71 kB 36.4 MB/s eta 0:00:01\r\u001b[K     |███                             | 81 kB 37.2 MB/s eta 0:00:01\r\u001b[K     |███▎                            | 92 kB 38.9 MB/s eta 0:00:01\r\u001b[K     |███▋                            | 102 kB 40.4 MB/s eta 0:00:01\r\u001b[K     |████                            | 112 kB 40.4 MB/s eta 0:00:01\r\u001b[K     |████▍                           | 122 kB 40.4 MB/s eta 0:00:01\r\u001b[K     |████▊                           | 133 kB 40.4 MB/s eta 0:00:01\r\u001b[K     |█████                           | 143 kB 40.4 MB/s eta 0:00:01\r\u001b[K     |█████▍                          | 153 kB 40.4 MB/s eta 0:00:01\r\u001b[K     |█████▉                          | 163 kB 40.4 MB/s eta 0:00:01\r\u001b[K     |██████▏                         | 174 kB 40.4 MB/s eta 0:00:01\r\u001b[K     |██████▌                         | 184 kB 40.4 MB/s eta 0:00:01\r\u001b[K     |██████▉                         | 194 kB 40.4 MB/s eta 0:00:01\r\u001b[K     |███████▎                        | 204 kB 40.4 MB/s eta 0:00:01\r\u001b[K     |███████▋                        | 215 kB 40.4 MB/s eta 0:00:01\r\u001b[K     |████████                        | 225 kB 40.4 MB/s eta 0:00:01\r\u001b[K     |████████▎                       | 235 kB 40.4 MB/s eta 0:00:01\r\u001b[K     |████████▊                       | 245 kB 40.4 MB/s eta 0:00:01\r\u001b[K     |█████████                       | 256 kB 40.4 MB/s eta 0:00:01\r\u001b[K     |█████████▍                      | 266 kB 40.4 MB/s eta 0:00:01\r\u001b[K     |█████████▉                      | 276 kB 40.4 MB/s eta 0:00:01\r\u001b[K     |██████████▏                     | 286 kB 40.4 MB/s eta 0:00:01\r\u001b[K     |██████████▌                     | 296 kB 40.4 MB/s eta 0:00:01\r\u001b[K     |██████████▉                     | 307 kB 40.4 MB/s eta 0:00:01\r\u001b[K     |███████████▎                    | 317 kB 40.4 MB/s eta 0:00:01\r\u001b[K     |███████████▋                    | 327 kB 40.4 MB/s eta 0:00:01\r\u001b[K     |████████████                    | 337 kB 40.4 MB/s eta 0:00:01\r\u001b[K     |████████████▎                   | 348 kB 40.4 MB/s eta 0:00:01\r\u001b[K     |████████████▊                   | 358 kB 40.4 MB/s eta 0:00:01\r\u001b[K     |█████████████                   | 368 kB 40.4 MB/s eta 0:00:01\r\u001b[K     |█████████████▍                  | 378 kB 40.4 MB/s eta 0:00:01\r\u001b[K     |█████████████▊                  | 389 kB 40.4 MB/s eta 0:00:01\r\u001b[K     |██████████████▏                 | 399 kB 40.4 MB/s eta 0:00:01\r\u001b[K     |██████████████▌                 | 409 kB 40.4 MB/s eta 0:00:01\r\u001b[K     |██████████████▉                 | 419 kB 40.4 MB/s eta 0:00:01\r\u001b[K     |███████████████▏                | 430 kB 40.4 MB/s eta 0:00:01\r\u001b[K     |███████████████▋                | 440 kB 40.4 MB/s eta 0:00:01\r\u001b[K     |████████████████                | 450 kB 40.4 MB/s eta 0:00:01\r\u001b[K     |████████████████▎               | 460 kB 40.4 MB/s eta 0:00:01\r\u001b[K     |████████████████▋               | 471 kB 40.4 MB/s eta 0:00:01\r\u001b[K     |█████████████████               | 481 kB 40.4 MB/s eta 0:00:01\r\u001b[K     |█████████████████▍              | 491 kB 40.4 MB/s eta 0:00:01\r\u001b[K     |█████████████████▊              | 501 kB 40.4 MB/s eta 0:00:01\r\u001b[K     |██████████████████▏             | 512 kB 40.4 MB/s eta 0:00:01\r\u001b[K     |██████████████████▌             | 522 kB 40.4 MB/s eta 0:00:01\r\u001b[K     |██████████████████▉             | 532 kB 40.4 MB/s eta 0:00:01\r\u001b[K     |███████████████████▏            | 542 kB 40.4 MB/s eta 0:00:01\r\u001b[K     |███████████████████▋            | 552 kB 40.4 MB/s eta 0:00:01\r\u001b[K     |████████████████████            | 563 kB 40.4 MB/s eta 0:00:01\r\u001b[K     |████████████████████▎           | 573 kB 40.4 MB/s eta 0:00:01\r\u001b[K     |████████████████████▋           | 583 kB 40.4 MB/s eta 0:00:01\r\u001b[K     |█████████████████████           | 593 kB 40.4 MB/s eta 0:00:01\r\u001b[K     |█████████████████████▍          | 604 kB 40.4 MB/s eta 0:00:01\r\u001b[K     |█████████████████████▊          | 614 kB 40.4 MB/s eta 0:00:01\r\u001b[K     |██████████████████████          | 624 kB 40.4 MB/s eta 0:00:01\r\u001b[K     |██████████████████████▌         | 634 kB 40.4 MB/s eta 0:00:01\r\u001b[K     |██████████████████████▉         | 645 kB 40.4 MB/s eta 0:00:01\r\u001b[K     |███████████████████████▏        | 655 kB 40.4 MB/s eta 0:00:01\r\u001b[K     |███████████████████████▌        | 665 kB 40.4 MB/s eta 0:00:01\r\u001b[K     |████████████████████████        | 675 kB 40.4 MB/s eta 0:00:01\r\u001b[K     |████████████████████████▎       | 686 kB 40.4 MB/s eta 0:00:01\r\u001b[K     |████████████████████████▋       | 696 kB 40.4 MB/s eta 0:00:01\r\u001b[K     |█████████████████████████       | 706 kB 40.4 MB/s eta 0:00:01\r\u001b[K     |█████████████████████████▍      | 716 kB 40.4 MB/s eta 0:00:01\r\u001b[K     |█████████████████████████▊      | 727 kB 40.4 MB/s eta 0:00:01\r\u001b[K     |██████████████████████████      | 737 kB 40.4 MB/s eta 0:00:01\r\u001b[K     |██████████████████████████▍     | 747 kB 40.4 MB/s eta 0:00:01\r\u001b[K     |██████████████████████████▉     | 757 kB 40.4 MB/s eta 0:00:01\r\u001b[K     |███████████████████████████▏    | 768 kB 40.4 MB/s eta 0:00:01\r\u001b[K     |███████████████████████████▌    | 778 kB 40.4 MB/s eta 0:00:01\r\u001b[K     |████████████████████████████    | 788 kB 40.4 MB/s eta 0:00:01\r\u001b[K     |████████████████████████████▎   | 798 kB 40.4 MB/s eta 0:00:01\r\u001b[K     |████████████████████████████▋   | 808 kB 40.4 MB/s eta 0:00:01\r\u001b[K     |█████████████████████████████   | 819 kB 40.4 MB/s eta 0:00:01\r\u001b[K     |█████████████████████████████▍  | 829 kB 40.4 MB/s eta 0:00:01\r\u001b[K     |█████████████████████████████▊  | 839 kB 40.4 MB/s eta 0:00:01\r\u001b[K     |██████████████████████████████  | 849 kB 40.4 MB/s eta 0:00:01\r\u001b[K     |██████████████████████████████▍ | 860 kB 40.4 MB/s eta 0:00:01\r\u001b[K     |██████████████████████████████▉ | 870 kB 40.4 MB/s eta 0:00:01\r\u001b[K     |███████████████████████████████▏| 880 kB 40.4 MB/s eta 0:00:01\r\u001b[K     |███████████████████████████████▌| 890 kB 40.4 MB/s eta 0:00:01\r\u001b[K     |███████████████████████████████▉| 901 kB 40.4 MB/s eta 0:00:01\r\u001b[K     |████████████████████████████████| 904 kB 40.4 MB/s \n",
            "\u001b[?25hRequirement already satisfied: urllib3 in /usr/local/lib/python3.7/dist-packages (from selenium) (1.24.3)\n",
            "Installing collected packages: selenium\n",
            "Successfully installed selenium-3.141.0\n",
            "Get:1 http://security.ubuntu.com/ubuntu bionic-security InRelease [88.7 kB]\n",
            "Get:2 https://cloud.r-project.org/bin/linux/ubuntu bionic-cran40/ InRelease [3,626 B]\n",
            "Ign:3 https://developer.download.nvidia.com/compute/cuda/repos/ubuntu1804/x86_64  InRelease\n",
            "Get:4 http://ppa.launchpad.net/c2d4u.team/c2d4u4.0+/ubuntu bionic InRelease [15.9 kB]\n",
            "Hit:5 http://archive.ubuntu.com/ubuntu bionic InRelease\n",
            "Ign:6 https://developer.download.nvidia.com/compute/machine-learning/repos/ubuntu1804/x86_64  InRelease\n",
            "Hit:7 https://developer.download.nvidia.com/compute/cuda/repos/ubuntu1804/x86_64  Release\n",
            "Hit:8 https://developer.download.nvidia.com/compute/machine-learning/repos/ubuntu1804/x86_64  Release\n",
            "Get:9 http://archive.ubuntu.com/ubuntu bionic-updates InRelease [88.7 kB]\n",
            "Hit:10 http://ppa.launchpad.net/cran/libgit2/ubuntu bionic InRelease\n",
            "Get:11 http://archive.ubuntu.com/ubuntu bionic-backports InRelease [74.6 kB]\n",
            "Hit:12 http://ppa.launchpad.net/deadsnakes/ppa/ubuntu bionic InRelease\n",
            "Get:13 http://security.ubuntu.com/ubuntu bionic-security/restricted amd64 Packages [543 kB]\n",
            "Get:14 http://security.ubuntu.com/ubuntu bionic-security/universe amd64 Packages [1,424 kB]\n",
            "Get:15 http://security.ubuntu.com/ubuntu bionic-security/main amd64 Packages [2,294 kB]\n",
            "Hit:16 http://ppa.launchpad.net/graphics-drivers/ppa/ubuntu bionic InRelease\n",
            "Get:19 http://ppa.launchpad.net/c2d4u.team/c2d4u4.0+/ubuntu bionic/main Sources [1,792 kB]\n",
            "Get:20 http://archive.ubuntu.com/ubuntu bionic-updates/restricted amd64 Packages [575 kB]\n",
            "Get:21 http://archive.ubuntu.com/ubuntu bionic-updates/multiverse amd64 Packages [34.4 kB]\n",
            "Get:22 http://archive.ubuntu.com/ubuntu bionic-updates/universe amd64 Packages [2,199 kB]\n",
            "Get:23 http://ppa.launchpad.net/c2d4u.team/c2d4u4.0+/ubuntu bionic/main amd64 Packages [917 kB]\n",
            "Get:24 http://archive.ubuntu.com/ubuntu bionic-updates/main amd64 Packages [2,730 kB]\n",
            "Fetched 12.8 MB in 3s (3,916 kB/s)\n",
            "Reading package lists... Done\n",
            "Reading package lists... Done\n",
            "Building dependency tree       \n",
            "Reading state information... Done\n",
            "The following package was automatically installed and is no longer required:\n",
            "  libnvidia-common-460\n",
            "Use 'apt autoremove' to remove it.\n",
            "The following additional packages will be installed:\n",
            "  chromium-browser chromium-browser-l10n chromium-codecs-ffmpeg-extra\n",
            "Suggested packages:\n",
            "  webaccounts-chromium-extension unity-chromium-extension\n",
            "The following NEW packages will be installed:\n",
            "  chromium-browser chromium-browser-l10n chromium-chromedriver\n",
            "  chromium-codecs-ffmpeg-extra\n",
            "0 upgraded, 4 newly installed, 0 to remove and 50 not upgraded.\n",
            "Need to get 91.8 MB of archives.\n",
            "After this operation, 315 MB of additional disk space will be used.\n",
            "Get:1 http://archive.ubuntu.com/ubuntu bionic-updates/universe amd64 chromium-codecs-ffmpeg-extra amd64 92.0.4515.159-0ubuntu0.18.04.1 [1,124 kB]\n",
            "Get:2 http://archive.ubuntu.com/ubuntu bionic-updates/universe amd64 chromium-browser amd64 92.0.4515.159-0ubuntu0.18.04.1 [81.7 MB]\n",
            "Get:3 http://archive.ubuntu.com/ubuntu bionic-updates/universe amd64 chromium-browser-l10n all 92.0.4515.159-0ubuntu0.18.04.1 [4,026 kB]\n",
            "Get:4 http://archive.ubuntu.com/ubuntu bionic-updates/universe amd64 chromium-chromedriver amd64 92.0.4515.159-0ubuntu0.18.04.1 [4,902 kB]\n",
            "Fetched 91.8 MB in 3s (28.4 MB/s)\n",
            "Selecting previously unselected package chromium-codecs-ffmpeg-extra.\n",
            "(Reading database ... 148486 files and directories currently installed.)\n",
            "Preparing to unpack .../chromium-codecs-ffmpeg-extra_92.0.4515.159-0ubuntu0.18.04.1_amd64.deb ...\n",
            "Unpacking chromium-codecs-ffmpeg-extra (92.0.4515.159-0ubuntu0.18.04.1) ...\n",
            "Selecting previously unselected package chromium-browser.\n",
            "Preparing to unpack .../chromium-browser_92.0.4515.159-0ubuntu0.18.04.1_amd64.deb ...\n",
            "Unpacking chromium-browser (92.0.4515.159-0ubuntu0.18.04.1) ...\n",
            "Selecting previously unselected package chromium-browser-l10n.\n",
            "Preparing to unpack .../chromium-browser-l10n_92.0.4515.159-0ubuntu0.18.04.1_all.deb ...\n",
            "Unpacking chromium-browser-l10n (92.0.4515.159-0ubuntu0.18.04.1) ...\n",
            "Selecting previously unselected package chromium-chromedriver.\n",
            "Preparing to unpack .../chromium-chromedriver_92.0.4515.159-0ubuntu0.18.04.1_amd64.deb ...\n",
            "Unpacking chromium-chromedriver (92.0.4515.159-0ubuntu0.18.04.1) ...\n",
            "Setting up chromium-codecs-ffmpeg-extra (92.0.4515.159-0ubuntu0.18.04.1) ...\n",
            "Setting up chromium-browser (92.0.4515.159-0ubuntu0.18.04.1) ...\n",
            "update-alternatives: using /usr/bin/chromium-browser to provide /usr/bin/x-www-browser (x-www-browser) in auto mode\n",
            "update-alternatives: using /usr/bin/chromium-browser to provide /usr/bin/gnome-www-browser (gnome-www-browser) in auto mode\n",
            "Setting up chromium-chromedriver (92.0.4515.159-0ubuntu0.18.04.1) ...\n",
            "Setting up chromium-browser-l10n (92.0.4515.159-0ubuntu0.18.04.1) ...\n",
            "Processing triggers for man-db (2.8.3-2ubuntu0.1) ...\n",
            "Processing triggers for hicolor-icon-theme (0.17-2) ...\n",
            "Processing triggers for mime-support (3.60ubuntu1) ...\n",
            "Processing triggers for libc-bin (2.27-3ubuntu1.2) ...\n",
            "/sbin/ldconfig.real: /usr/local/lib/python3.7/dist-packages/ideep4py/lib/libmkldnn.so.0 is not a symbolic link\n",
            "\n",
            "cp: '/usr/lib/chromium-browser/chromedriver' and '/usr/bin/chromedriver' are the same file\n"
          ],
          "name": "stdout"
        }
      ]
    },
    {
      "cell_type": "code",
      "metadata": {
        "colab": {
          "base_uri": "https://localhost:8080/"
        },
        "id": "tUQAQ8JX0WhK",
        "outputId": "f1b2dcf9-4341-41c7-d88e-81e80a1c8903"
      },
      "source": [
        "!mkdir /content/datawarehouse\n",
        "%cd datawarehouse"
      ],
      "execution_count": null,
      "outputs": [
        {
          "output_type": "stream",
          "text": [
            "mkdir: cannot create directory ‘/content/datawarehouse’: File exists\n",
            "[Errno 2] No such file or directory: 'datawarehouse'\n",
            "/content/datawarehouse\n"
          ],
          "name": "stdout"
        }
      ]
    },
    {
      "cell_type": "markdown",
      "metadata": {
        "id": "3PVtaR_7t1m6"
      },
      "source": [
        "# Scrap one page"
      ]
    },
    {
      "cell_type": "code",
      "metadata": {
        "colab": {
          "base_uri": "https://localhost:8080/",
          "height": 365
        },
        "id": "6HUuU7LataV-",
        "outputId": "e482c7b2-feb9-4f59-f2a0-ddbd4c51eb14"
      },
      "source": [
        "import sys\n",
        "sys.path.insert(0,'/usr/lib/chromium-browser/chromedriver')\n",
        "from selenium import webdriver\n",
        "from time import sleep\n",
        "from bs4 import BeautifulSoup\n",
        "import pandas as pd\n",
        "chrome_options = webdriver.ChromeOptions()\n",
        "chrome_options.add_argument('--headless')\n",
        "chrome_options.add_argument('--no-sandbox')\n",
        "chrome_options.add_argument('--disable-dev-shm-usage')\n",
        "wd = webdriver.Chrome('chromedriver',chrome_options=chrome_options)\n",
        "\n",
        "site = 'https://drugbank.vn/danh-sach-thuoc?page=2' \n",
        "\n",
        "wd.get(site)\n",
        "sleep(5)\n",
        "html = wd.page_source\n",
        "\n",
        "df = pd.read_html(html)\n",
        "df[0].head(5)"
      ],
      "execution_count": null,
      "outputs": [
        {
          "output_type": "stream",
          "text": [
            "/usr/local/lib/python3.7/dist-packages/ipykernel_launcher.py:11: DeprecationWarning: use options instead of chrome_options\n",
            "  # This is added back by InteractiveShellApp.init_path()\n"
          ],
          "name": "stderr"
        },
        {
          "output_type": "execute_result",
          "data": {
            "text/html": [
              "<div>\n",
              "<style scoped>\n",
              "    .dataframe tbody tr th:only-of-type {\n",
              "        vertical-align: middle;\n",
              "    }\n",
              "\n",
              "    .dataframe tbody tr th {\n",
              "        vertical-align: top;\n",
              "    }\n",
              "\n",
              "    .dataframe thead th {\n",
              "        text-align: right;\n",
              "    }\n",
              "</style>\n",
              "<table border=\"1\" class=\"dataframe\">\n",
              "  <thead>\n",
              "    <tr style=\"text-align: right;\">\n",
              "      <th></th>\n",
              "      <th>Số Đăng Ký</th>\n",
              "      <th>Tên Thuốc</th>\n",
              "      <th>Hoạt Chất</th>\n",
              "      <th>Công ty Sản Xuất</th>\n",
              "      <th>Nước Sản Xuất</th>\n",
              "      <th>Reset</th>\n",
              "    </tr>\n",
              "  </thead>\n",
              "  <tbody>\n",
              "    <tr>\n",
              "      <th>0</th>\n",
              "      <td>VD-20749-14</td>\n",
              "      <td>ABAB 500mg</td>\n",
              "      <td>Acetaminophen</td>\n",
              "      <td>Công ty cổ phần dược phẩm IMEXPHARM</td>\n",
              "      <td>Việt Nam</td>\n",
              "      <td>Xem</td>\n",
              "    </tr>\n",
              "    <tr>\n",
              "      <th>1</th>\n",
              "      <td>VN-19978-16</td>\n",
              "      <td>ACC 200 mg</td>\n",
              "      <td>Acetylcystein</td>\n",
              "      <td>Lindopharm GmbH</td>\n",
              "      <td>Đức</td>\n",
              "      <td>Xem</td>\n",
              "    </tr>\n",
              "    <tr>\n",
              "      <th>2</th>\n",
              "      <td>VD-25107-16</td>\n",
              "      <td>ACM Control 1</td>\n",
              "      <td>Acenocoumarol</td>\n",
              "      <td>Công ty cổ phần Dược phẩm 3/2</td>\n",
              "      <td>Việt Nam</td>\n",
              "      <td>Xem</td>\n",
              "    </tr>\n",
              "    <tr>\n",
              "      <th>3</th>\n",
              "      <td>VD-25594-16</td>\n",
              "      <td>ACM Control 4</td>\n",
              "      <td>Acenocoumarol</td>\n",
              "      <td>Công ty cổ phần Dược phẩm 3/2</td>\n",
              "      <td>Việt Nam</td>\n",
              "      <td>Xem</td>\n",
              "    </tr>\n",
              "    <tr>\n",
              "      <th>4</th>\n",
              "      <td>VD-20653-14</td>\n",
              "      <td>AG-Ome</td>\n",
              "      <td>Omeprazol (Dạng vi hạt bao tan trong ruột)</td>\n",
              "      <td>Công ty cổ phần dược phẩm Agimexpharm</td>\n",
              "      <td>Việt Nam</td>\n",
              "      <td>Xem</td>\n",
              "    </tr>\n",
              "  </tbody>\n",
              "</table>\n",
              "</div>"
            ],
            "text/plain": [
              "    Số Đăng Ký      Tên Thuốc  ... Nước Sản Xuất Reset\n",
              "0  VD-20749-14     ABAB 500mg  ...      Việt Nam   Xem\n",
              "1  VN-19978-16     ACC 200 mg  ...           Đức   Xem\n",
              "2  VD-25107-16  ACM Control 1  ...      Việt Nam   Xem\n",
              "3  VD-25594-16  ACM Control 4  ...      Việt Nam   Xem\n",
              "4  VD-20653-14         AG-Ome  ...      Việt Nam   Xem\n",
              "\n",
              "[5 rows x 6 columns]"
            ]
          },
          "metadata": {},
          "execution_count": 6
        }
      ]
    },
    {
      "cell_type": "code",
      "metadata": {
        "id": "6XCW4PODtlFk"
      },
      "source": [
        "# save to .csv file (if needed)\n",
        "df[0].to_csv('drug.csv',encoding='utf-8-sig')"
      ],
      "execution_count": null,
      "outputs": []
    },
    {
      "cell_type": "markdown",
      "metadata": {
        "id": "mIMJ1s1qt055"
      },
      "source": [
        "# Crawl multiple pages"
      ]
    },
    {
      "cell_type": "code",
      "metadata": {
        "colab": {
          "base_uri": "https://localhost:8080/"
        },
        "id": "FkLjtnkByKjo",
        "outputId": "8b27d7c9-5ccb-40bc-cd62-19690871d67d"
      },
      "source": [
        "# Crawl multiple links in a link list.\n",
        "## It's very slow, about 4 pages per minutes\n",
        "from selenium import webdriver\n",
        "from time import sleep\n",
        "from bs4 import BeautifulSoup\n",
        "import pandas as pd\n",
        "from random import *\n",
        "import sys\n",
        "sys.path.insert(0,'/usr/lib/chromium-browser/chromedriver')\n",
        "chrome_options = webdriver.ChromeOptions()\n",
        "chrome_options.add_argument('--headless')\n",
        "chrome_options.add_argument('--no-sandbox')\n",
        "chrome_options.add_argument('--disable-dev-shm-usage')\n",
        "wd = webdriver.Chrome('chromedriver',chrome_options=chrome_options)\n",
        "\n",
        "\n",
        "#create a list of links\n",
        "# There are up to 512 pages on drugbank.vn.\n",
        "list_num = map(str, range(1,4))\n",
        "link  = \"https://drugbank.vn/danh-sach-thuoc?page=\"\n",
        "newlinks = []\n",
        "for i in list_num:\n",
        "     newlinks.append(link+i)\n",
        "#print(newlinks)\n",
        "\n",
        "#loop through list of links with index\n",
        "for num,site in enumerate(newlinks,start=1):\n",
        "#site = 'https://drugbank.vn/danh-sach-thuoc?page=2' \n",
        "    wd.get(site)\n",
        "    sleep(5)\n",
        "    html = wd.page_source\n",
        "\n",
        "    df = pd.read_html(html)\n",
        "    df[0]\n",
        "\n",
        "    #save result to .csv\n",
        "    df[0].to_csv('drugbankvn_page_'+ str(num) +'.csv',index=False,encoding='utf-8-sig')"
      ],
      "execution_count": null,
      "outputs": [
        {
          "output_type": "stream",
          "text": [
            "/usr/local/lib/python3.7/dist-packages/ipykernel_launcher.py:14: DeprecationWarning: use options instead of chrome_options\n",
            "  \n"
          ],
          "name": "stderr"
        }
      ]
    },
    {
      "cell_type": "code",
      "metadata": {
        "id": "ph5YKm4R1boe"
      },
      "source": [
        ""
      ],
      "execution_count": null,
      "outputs": []
    }
  ]
}