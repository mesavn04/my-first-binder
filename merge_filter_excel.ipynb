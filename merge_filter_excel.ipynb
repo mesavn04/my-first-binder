{
 "cells": [
  {
   "cell_type": "code",
   "execution_count": 32,
   "metadata": {},
   "outputs": [],
   "source": [
    "import pandas as pd\n",
    "import numpy as np"
   ]
  },
  {
   "cell_type": "code",
   "execution_count": 33,
   "metadata": {},
   "outputs": [
    {
     "name": "stderr",
     "output_type": "stream",
     "text": [
      "'ls' is not recognized as an internal or external command,\n",
      "operable program or batch file.\n"
     ]
    }
   ],
   "source": [
    "!ls ..\"N:\\\\TAILIEUPHONG\\\\NhungTTH\\\\General_ledger_20\\\\General ledger*.xlsx\""
   ]
  },
  {
   "cell_type": "code",
   "execution_count": 34,
   "metadata": {},
   "outputs": [
    {
     "data": {
      "text/plain": [
       "['N:\\\\TAILIEUPHONG\\\\NhungTTH\\\\General_ledger_20\\\\General Ledger_0120.xlsx',\n",
       " 'N:\\\\TAILIEUPHONG\\\\NhungTTH\\\\General_ledger_20\\\\General Ledger_0220.xlsx',\n",
       " 'N:\\\\TAILIEUPHONG\\\\NhungTTH\\\\General_ledger_20\\\\General Ledger_0320.xlsx',\n",
       " 'N:\\\\TAILIEUPHONG\\\\NhungTTH\\\\General_ledger_20\\\\General Ledger_0420.xlsx',\n",
       " 'N:\\\\TAILIEUPHONG\\\\NhungTTH\\\\General_ledger_20\\\\General Ledger_0520.xlsx',\n",
       " 'N:\\\\TAILIEUPHONG\\\\NhungTTH\\\\General_ledger_20\\\\General Ledger_0620.xlsx']"
      ]
     },
     "execution_count": 34,
     "metadata": {},
     "output_type": "execute_result"
    }
   ],
   "source": [
    "import glob\n",
    "glob.glob(\"N:\\\\TAILIEUPHONG\\\\NhungTTH\\\\General_ledger_20\\\\General ledger*.xlsx\")"
   ]
  },
  {
   "cell_type": "code",
   "execution_count": 39,
   "metadata": {},
   "outputs": [],
   "source": [
    "all_data = []\n",
    "for f in glob.glob(\"N:\\\\TAILIEUPHONG\\\\NhungTTH\\\\General_ledger_20\\\\General Ledger*.xlsx\"):\n",
    "    all_data.append(pd.read_excel(f))\n",
    "    df = pd.concat(all_data, ignore_index=True)"
   ]
  },
  {
   "cell_type": "code",
   "execution_count": 40,
   "metadata": {},
   "outputs": [
    {
     "data": {
      "text/html": [
       "<div>\n",
       "<style scoped>\n",
       "    .dataframe tbody tr th:only-of-type {\n",
       "        vertical-align: middle;\n",
       "    }\n",
       "\n",
       "    .dataframe tbody tr th {\n",
       "        vertical-align: top;\n",
       "    }\n",
       "\n",
       "    .dataframe thead th {\n",
       "        text-align: right;\n",
       "    }\n",
       "</style>\n",
       "<table border=\"1\" class=\"dataframe\">\n",
       "  <thead>\n",
       "    <tr style=\"text-align: right;\">\n",
       "      <th></th>\n",
       "      <th>Posting Date</th>\n",
       "      <th>Due Date</th>\n",
       "      <th>Doc. No.</th>\n",
       "      <th>Trans. No.</th>\n",
       "      <th>Account</th>\n",
       "      <th>Account name</th>\n",
       "      <th>Remarks</th>\n",
       "      <th>Offset Acct</th>\n",
       "      <th>Offset Acct Name</th>\n",
       "      <th>Deb./Cred. (LC)</th>\n",
       "      <th>Category</th>\n",
       "      <th>Manufacturer/Owner</th>\n",
       "      <th>Dimension 3</th>\n",
       "      <th>Dimension 4</th>\n",
       "    </tr>\n",
       "  </thead>\n",
       "  <tbody>\n",
       "    <tr>\n",
       "      <th>0</th>\n",
       "      <td>02.01.2020</td>\n",
       "      <td>02.01.2020</td>\n",
       "      <td>RC 14089</td>\n",
       "      <td>83944</td>\n",
       "      <td>11110100</td>\n",
       "      <td>Tiền mặt Việt Nam - VPDHĐ</td>\n",
       "      <td>LOAN-PHONG-60.541.000</td>\n",
       "      <td>CS002837</td>\n",
       "      <td>NT BAO</td>\n",
       "      <td>1078000.0</td>\n",
       "      <td>NaN</td>\n",
       "      <td>NaN</td>\n",
       "      <td>NaN</td>\n",
       "      <td>NaN</td>\n",
       "    </tr>\n",
       "    <tr>\n",
       "      <th>1</th>\n",
       "      <td>02.01.2020</td>\n",
       "      <td>02.01.2020</td>\n",
       "      <td>RC 14090</td>\n",
       "      <td>83946</td>\n",
       "      <td>11110100</td>\n",
       "      <td>Tiền mặt Việt Nam - VPDHĐ</td>\n",
       "      <td>LOAN-PHONG-60.541.000</td>\n",
       "      <td>CS011087</td>\n",
       "      <td>CONG TY TNHH Y TE DAI PHUOC (CNTP)</td>\n",
       "      <td>4755000.0</td>\n",
       "      <td>NaN</td>\n",
       "      <td>NaN</td>\n",
       "      <td>NaN</td>\n",
       "      <td>NaN</td>\n",
       "    </tr>\n",
       "    <tr>\n",
       "      <th>2</th>\n",
       "      <td>02.01.2020</td>\n",
       "      <td>02.01.2020</td>\n",
       "      <td>RC 14091</td>\n",
       "      <td>83948</td>\n",
       "      <td>11110100</td>\n",
       "      <td>Tiền mặt Việt Nam - VPDHĐ</td>\n",
       "      <td>LOAN-PHONG-60.541.000</td>\n",
       "      <td>CS004996</td>\n",
       "      <td>NT NGUYEN THANH</td>\n",
       "      <td>561000.0</td>\n",
       "      <td>NaN</td>\n",
       "      <td>NaN</td>\n",
       "      <td>NaN</td>\n",
       "      <td>NaN</td>\n",
       "    </tr>\n",
       "  </tbody>\n",
       "</table>\n",
       "</div>"
      ],
      "text/plain": [
       "  Posting Date    Due Date  Doc. No.  Trans. No.   Account  \\\n",
       "0   02.01.2020  02.01.2020  RC 14089       83944  11110100   \n",
       "1   02.01.2020  02.01.2020  RC 14090       83946  11110100   \n",
       "2   02.01.2020  02.01.2020  RC 14091       83948  11110100   \n",
       "\n",
       "                Account name                Remarks Offset Acct  \\\n",
       "0  Tiền mặt Việt Nam - VPDHĐ  LOAN-PHONG-60.541.000    CS002837   \n",
       "1  Tiền mặt Việt Nam - VPDHĐ  LOAN-PHONG-60.541.000    CS011087   \n",
       "2  Tiền mặt Việt Nam - VPDHĐ  LOAN-PHONG-60.541.000    CS004996   \n",
       "\n",
       "                     Offset Acct Name  Deb./Cred. (LC)  Category  \\\n",
       "0                              NT BAO        1078000.0       NaN   \n",
       "1  CONG TY TNHH Y TE DAI PHUOC (CNTP)        4755000.0       NaN   \n",
       "2                     NT NGUYEN THANH         561000.0       NaN   \n",
       "\n",
       "  Manufacturer/Owner Dimension 3 Dimension 4  \n",
       "0                NaN         NaN         NaN  \n",
       "1                NaN         NaN         NaN  \n",
       "2                NaN         NaN         NaN  "
      ]
     },
     "execution_count": 40,
     "metadata": {},
     "output_type": "execute_result"
    }
   ],
   "source": [
    "#all_data.head(3)\n",
    "df.head(3)"
   ]
  },
  {
   "cell_type": "code",
   "execution_count": 55,
   "metadata": {},
   "outputs": [
    {
     "data": {
      "text/html": [
       "<div>\n",
       "<style scoped>\n",
       "    .dataframe tbody tr th:only-of-type {\n",
       "        vertical-align: middle;\n",
       "    }\n",
       "\n",
       "    .dataframe tbody tr th {\n",
       "        vertical-align: top;\n",
       "    }\n",
       "\n",
       "    .dataframe thead th {\n",
       "        text-align: right;\n",
       "    }\n",
       "</style>\n",
       "<table border=\"1\" class=\"dataframe\">\n",
       "  <thead>\n",
       "    <tr style=\"text-align: right;\">\n",
       "      <th></th>\n",
       "      <th>Posting Date</th>\n",
       "      <th>Due Date</th>\n",
       "      <th>Doc. No.</th>\n",
       "      <th>Trans. No.</th>\n",
       "      <th>Account</th>\n",
       "      <th>Account name</th>\n",
       "      <th>Remarks</th>\n",
       "      <th>Offset Acct</th>\n",
       "      <th>Offset Acct Name</th>\n",
       "      <th>Deb./Cred. (LC)</th>\n",
       "      <th>Category</th>\n",
       "      <th>Manufacturer/Owner</th>\n",
       "      <th>Dimension 3</th>\n",
       "      <th>Dimension 4</th>\n",
       "    </tr>\n",
       "  </thead>\n",
       "  <tbody>\n",
       "    <tr>\n",
       "      <th>54924</th>\n",
       "      <td>21.01.2020</td>\n",
       "      <td>21.01.2020</td>\n",
       "      <td>PC 11</td>\n",
       "      <td>148162</td>\n",
       "      <td>13310000</td>\n",
       "      <td>XUAT TRA HANG TRUONG SON, TRA HANG TON KHONG S...</td>\n",
       "      <td>XUAT TRA HANG TRUONG SON, TRA HANG TON KHONG S...</td>\n",
       "      <td>VDP10044</td>\n",
       "      <td>CONG TY TNHH TRUONG SON</td>\n",
       "      <td>-1.783010e+06</td>\n",
       "      <td>NaN</td>\n",
       "      <td>NaN</td>\n",
       "      <td>NaN</td>\n",
       "      <td>NaN</td>\n",
       "    </tr>\n",
       "    <tr>\n",
       "      <th>54925</th>\n",
       "      <td>21.01.2020</td>\n",
       "      <td>21.01.2020</td>\n",
       "      <td>PC 12</td>\n",
       "      <td>148341</td>\n",
       "      <td>13310000</td>\n",
       "      <td>A/P Credit Memos - VDP10085</td>\n",
       "      <td>A/P Credit Memos - VDP10085</td>\n",
       "      <td>VDP10085</td>\n",
       "      <td>CONG TY TNHH DUOC PHAM LIEN HOP</td>\n",
       "      <td>-4.823754e+06</td>\n",
       "      <td>NaN</td>\n",
       "      <td>NaN</td>\n",
       "      <td>NaN</td>\n",
       "      <td>NaN</td>\n",
       "    </tr>\n",
       "    <tr>\n",
       "      <th>54926</th>\n",
       "      <td>21.01.2020</td>\n",
       "      <td>21.01.2020</td>\n",
       "      <td>PC 13</td>\n",
       "      <td>148358</td>\n",
       "      <td>13310000</td>\n",
       "      <td>A/P Credit Memos - VDP10088</td>\n",
       "      <td>A/P Credit Memos - VDP10088</td>\n",
       "      <td>VDP10088</td>\n",
       "      <td>(HD)CONG TY TNHH DUOC PHAM LIEN HOP</td>\n",
       "      <td>-1.219167e+07</td>\n",
       "      <td>NaN</td>\n",
       "      <td>NaN</td>\n",
       "      <td>NaN</td>\n",
       "      <td>NaN</td>\n",
       "    </tr>\n",
       "  </tbody>\n",
       "</table>\n",
       "</div>"
      ],
      "text/plain": [
       "      Posting Date    Due Date Doc. No.  Trans. No.   Account  \\\n",
       "54924   21.01.2020  21.01.2020    PC 11      148162  13310000   \n",
       "54925   21.01.2020  21.01.2020    PC 12      148341  13310000   \n",
       "54926   21.01.2020  21.01.2020    PC 13      148358  13310000   \n",
       "\n",
       "                                            Account name  \\\n",
       "54924  XUAT TRA HANG TRUONG SON, TRA HANG TON KHONG S...   \n",
       "54925                        A/P Credit Memos - VDP10085   \n",
       "54926                        A/P Credit Memos - VDP10088   \n",
       "\n",
       "                                                 Remarks Offset Acct  \\\n",
       "54924  XUAT TRA HANG TRUONG SON, TRA HANG TON KHONG S...    VDP10044   \n",
       "54925                        A/P Credit Memos - VDP10085    VDP10085   \n",
       "54926                        A/P Credit Memos - VDP10088    VDP10088   \n",
       "\n",
       "                          Offset Acct Name  Deb./Cred. (LC)  Category  \\\n",
       "54924              CONG TY TNHH TRUONG SON    -1.783010e+06       NaN   \n",
       "54925      CONG TY TNHH DUOC PHAM LIEN HOP    -4.823754e+06       NaN   \n",
       "54926  (HD)CONG TY TNHH DUOC PHAM LIEN HOP    -1.219167e+07       NaN   \n",
       "\n",
       "      Manufacturer/Owner Dimension 3 Dimension 4  \n",
       "54924                NaN         NaN         NaN  \n",
       "54925                NaN         NaN         NaN  \n",
       "54926                NaN         NaN         NaN  "
      ]
     },
     "execution_count": 55,
     "metadata": {},
     "output_type": "execute_result"
    }
   ],
   "source": [
    "Acct = [13310000,13320000,13330000]\n",
    "filter=df[df.Account.isin(Acct)]\n",
    "filter.shape\n",
    "filter.head(3)\n"
   ]
  },
  {
   "cell_type": "code",
   "execution_count": 56,
   "metadata": {},
   "outputs": [],
   "source": [
    "filter.to_excel(\"N:\\\\TAILIEUPHONG\\\\NhungTTH\\\\General_ledger_20\\\\combine.xlsx\", index = False)"
   ]
  },
  {
   "cell_type": "code",
   "execution_count": null,
   "metadata": {},
   "outputs": [],
   "source": []
  }
 ],
 "metadata": {
  "kernelspec": {
   "display_name": "Python 3",
   "language": "python",
   "name": "python3"
  },
  "language_info": {
   "codemirror_mode": {
    "name": "ipython",
    "version": 3
   },
   "file_extension": ".py",
   "mimetype": "text/x-python",
   "name": "python",
   "nbconvert_exporter": "python",
   "pygments_lexer": "ipython3",
   "version": "3.8.3"
  }
 },
 "nbformat": 4,
 "nbformat_minor": 4
}
