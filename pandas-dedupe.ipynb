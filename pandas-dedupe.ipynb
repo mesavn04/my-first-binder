{
 "cells": [
  {
   "cell_type": "code",
   "execution_count": 4,
   "metadata": {},
   "outputs": [
    {
     "data": {
      "text/html": [
       "<div>\n",
       "<style scoped>\n",
       "    .dataframe tbody tr th:only-of-type {\n",
       "        vertical-align: middle;\n",
       "    }\n",
       "\n",
       "    .dataframe tbody tr th {\n",
       "        vertical-align: top;\n",
       "    }\n",
       "\n",
       "    .dataframe thead th {\n",
       "        text-align: right;\n",
       "    }\n",
       "</style>\n",
       "<table border=\"1\" class=\"dataframe\">\n",
       "  <thead>\n",
       "    <tr style=\"text-align: right;\">\n",
       "      <th></th>\n",
       "      <th>email</th>\n",
       "    </tr>\n",
       "  </thead>\n",
       "  <tbody>\n",
       "    <tr>\n",
       "      <th>0</th>\n",
       "      <td>Công ty CP XNK Y tế Domesco</td>\n",
       "    </tr>\n",
       "    <tr>\n",
       "      <th>1</th>\n",
       "      <td>Công ty CP Dược Liệu Trung Ương 2 (PHYTOPHARMA)</td>\n",
       "    </tr>\n",
       "    <tr>\n",
       "      <th>2</th>\n",
       "      <td>Công ty TNHH MTV Dược Sài Gòn (Sapharco)</td>\n",
       "    </tr>\n",
       "    <tr>\n",
       "      <th>3</th>\n",
       "      <td>Công ty CP Dược phẩm Vũ Duy</td>\n",
       "    </tr>\n",
       "    <tr>\n",
       "      <th>4</th>\n",
       "      <td>Công ty TNHH Dược phẩm Khương Duy</td>\n",
       "    </tr>\n",
       "    <tr>\n",
       "      <th>5</th>\n",
       "      <td>Công ty TNHH MTV Vimedimex Bình Dương</td>\n",
       "    </tr>\n",
       "    <tr>\n",
       "      <th>6</th>\n",
       "      <td>Công ty CP Dược TTBYT Bình Định (Bidiphar)</td>\n",
       "    </tr>\n",
       "    <tr>\n",
       "      <th>7</th>\n",
       "      <td>Công ty CP Dược phẩm Agimexpharm</td>\n",
       "    </tr>\n",
       "    <tr>\n",
       "      <th>8</th>\n",
       "      <td>Công ty CP Dược Hậu Giang</td>\n",
       "    </tr>\n",
       "    <tr>\n",
       "      <th>9</th>\n",
       "      <td>Công ty CP Dược phẩm Trung Ương CPC1</td>\n",
       "    </tr>\n",
       "  </tbody>\n",
       "</table>\n",
       "</div>"
      ],
      "text/plain": [
       "                                             email\n",
       "0                      Công ty CP XNK Y tế Domesco\n",
       "1  Công ty CP Dược Liệu Trung Ương 2 (PHYTOPHARMA)\n",
       "2         Công ty TNHH MTV Dược Sài Gòn (Sapharco)\n",
       "3                      Công ty CP Dược phẩm Vũ Duy\n",
       "4                Công ty TNHH Dược phẩm Khương Duy\n",
       "5            Công ty TNHH MTV Vimedimex Bình Dương\n",
       "6       Công ty CP Dược TTBYT Bình Định (Bidiphar)\n",
       "7                 Công ty CP Dược phẩm Agimexpharm\n",
       "8                        Công ty CP Dược Hậu Giang\n",
       "9             Công ty CP Dược phẩm Trung Ương CPC1"
      ]
     },
     "execution_count": 4,
     "metadata": {},
     "output_type": "execute_result"
    }
   ],
   "source": [
    "import pandas as pd\n",
    "import pandas_dedupe\n",
    "\n",
    "#load dataframes\n",
    "dfa = pd.read_excel('fileA.xlsx')\n",
    "dfb = pd.read_excel('fileB.xlsx')\n",
    "dfa.head(10)\n",
    "dfb.head(10)"
   ]
  },
  {
   "cell_type": "code",
   "execution_count": 5,
   "metadata": {},
   "outputs": [
    {
     "ename": "SyntaxError",
     "evalue": "EOL while scanning string literal (<ipython-input-5-60c1d15404a2>, line 1)",
     "output_type": "error",
     "traceback": [
      "\u001b[1;36m  File \u001b[1;32m\"<ipython-input-5-60c1d15404a2>\"\u001b[1;36m, line \u001b[1;32m1\u001b[0m\n\u001b[1;33m    df_final = pandas_dedupe.link_dataframes(dfa, dfb, ['full_name])\u001b[0m\n\u001b[1;37m                                                                    ^\u001b[0m\n\u001b[1;31mSyntaxError\u001b[0m\u001b[1;31m:\u001b[0m EOL while scanning string literal\n"
     ]
    }
   ],
   "source": [
    "df_final = pandas_dedupe.link_dataframes(dfa, dfb, ['full_name])"
   ]
  },
  {
   "cell_type": "code",
   "execution_count": null,
   "metadata": {},
   "outputs": [],
   "source": []
  }
 ],
 "metadata": {
  "kernelspec": {
   "display_name": "Python 3",
   "language": "python",
   "name": "python3"
  },
  "language_info": {
   "codemirror_mode": {
    "name": "ipython",
    "version": 3
   },
   "file_extension": ".py",
   "mimetype": "text/x-python",
   "name": "python",
   "nbconvert_exporter": "python",
   "pygments_lexer": "ipython3",
   "version": "3.8.3"
  }
 },
 "nbformat": 4,
 "nbformat_minor": 4
}
