{
 "cells": [
  {
   "cell_type": "code",
   "execution_count": null,
   "metadata": {},
   "outputs": [],
   "source": [
    "import pandas as pd\n",
    "import string\n",
    "import random\n",
    "import datetime\n",
    "\n",
    "# Read an excel with two sheets into two dataframes\n",
    "def load_data(name):\n",
    "    df, df1 = pd.read_excel(name, sheet_name=\"1\"), pd.read_excel(name, sheet_name=\"2\")\n",
    "    return df, df1\n",
    "\n",
    "def vlookup(df, df1):\n",
    "    # Merge category data by URL\n",
    "    df2 = df.merge(df1, on='URL', how='left')\n",
    "    df2.to_excel('new.xlsx', sheet_name=\"3\")\n",
    "    return True\n",
    "\n",
    "# Check if a value is present within\n",
    "\n",
    "def present_in(df, df1):\n",
    "    # This function gets applied to each value within\n",
    "    def is_in_column(data, values):\n",
    "        if data in values:\n",
    "            return True\n",
    "        else:\n",
    "            return False\n",
    "\n",
    "    df['Present_in_other'] = df['URL'].apply(is_in_column, values=df1['URL'].tolist())\n",
    "\n",
    "# This code runs the example on the provided simple dataset\n",
    "df,df1 = load_data(\"test.xlsx\")\n",
    "vlookup(df,df1)\n",
    "# This creates the dummy data of 500,000 rows where you can compare the speed yourself of a excel vlookup vs a python vlookup\n",
    "create_dummy_data()\n",
    "test_pandas_time()"
   ]
  }
 ],
 "metadata": {
  "kernelspec": {
   "display_name": "Python 3",
   "language": "python",
   "name": "python3"
  },
  "language_info": {
   "codemirror_mode": {
    "name": "ipython",
    "version": 3
   },
   "file_extension": ".py",
   "mimetype": "text/x-python",
   "name": "python",
   "nbconvert_exporter": "python",
   "pygments_lexer": "ipython3",
   "version": "3.8.3"
  }
 },
 "nbformat": 4,
 "nbformat_minor": 4
}
